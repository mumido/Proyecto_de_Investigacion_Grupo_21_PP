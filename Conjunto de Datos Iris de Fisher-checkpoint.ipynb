{
 "cells": [
  {
   "cell_type": "code",
   "execution_count": 17,
   "id": "99b371fe",
   "metadata": {},
   "outputs": [],
   "source": [
    "import pandas as pd\n",
    "import numpy as np\n",
    "import matplotlib.pyplot as plt\n",
    "import matplotlib.pyplot as plt"
   ]
  },
  {
   "cell_type": "code",
   "execution_count": 3,
   "id": "a2eb3b4d",
   "metadata": {},
   "outputs": [],
   "source": [
    "data = pd.read_csv('Iris.csv')"
   ]
  },
  {
   "cell_type": "code",
   "execution_count": 4,
   "id": "95c3f32d",
   "metadata": {
    "scrolled": true
   },
   "outputs": [
    {
     "data": {
      "text/html": [
       "<div>\n",
       "<style scoped>\n",
       "    .dataframe tbody tr th:only-of-type {\n",
       "        vertical-align: middle;\n",
       "    }\n",
       "\n",
       "    .dataframe tbody tr th {\n",
       "        vertical-align: top;\n",
       "    }\n",
       "\n",
       "    .dataframe thead th {\n",
       "        text-align: right;\n",
       "    }\n",
       "</style>\n",
       "<table border=\"1\" class=\"dataframe\">\n",
       "  <thead>\n",
       "    <tr style=\"text-align: right;\">\n",
       "      <th></th>\n",
       "      <th>Id</th>\n",
       "      <th>SepalLengthCm</th>\n",
       "      <th>SepalWidthCm</th>\n",
       "      <th>PetalLengthCm</th>\n",
       "      <th>PetalWidthCm</th>\n",
       "      <th>Species</th>\n",
       "    </tr>\n",
       "  </thead>\n",
       "  <tbody>\n",
       "    <tr>\n",
       "      <th>0</th>\n",
       "      <td>1</td>\n",
       "      <td>5.1</td>\n",
       "      <td>3.5</td>\n",
       "      <td>1.4</td>\n",
       "      <td>0.2</td>\n",
       "      <td>Iris-setosa</td>\n",
       "    </tr>\n",
       "    <tr>\n",
       "      <th>1</th>\n",
       "      <td>2</td>\n",
       "      <td>4.9</td>\n",
       "      <td>3.0</td>\n",
       "      <td>1.4</td>\n",
       "      <td>0.2</td>\n",
       "      <td>Iris-setosa</td>\n",
       "    </tr>\n",
       "    <tr>\n",
       "      <th>2</th>\n",
       "      <td>3</td>\n",
       "      <td>4.7</td>\n",
       "      <td>3.2</td>\n",
       "      <td>1.3</td>\n",
       "      <td>0.2</td>\n",
       "      <td>Iris-setosa</td>\n",
       "    </tr>\n",
       "    <tr>\n",
       "      <th>3</th>\n",
       "      <td>4</td>\n",
       "      <td>4.6</td>\n",
       "      <td>3.1</td>\n",
       "      <td>1.5</td>\n",
       "      <td>0.2</td>\n",
       "      <td>Iris-setosa</td>\n",
       "    </tr>\n",
       "    <tr>\n",
       "      <th>4</th>\n",
       "      <td>5</td>\n",
       "      <td>5.0</td>\n",
       "      <td>3.6</td>\n",
       "      <td>1.4</td>\n",
       "      <td>0.2</td>\n",
       "      <td>Iris-setosa</td>\n",
       "    </tr>\n",
       "  </tbody>\n",
       "</table>\n",
       "</div>"
      ],
      "text/plain": [
       "   Id  SepalLengthCm  SepalWidthCm  PetalLengthCm  PetalWidthCm      Species\n",
       "0   1            5.1           3.5            1.4           0.2  Iris-setosa\n",
       "1   2            4.9           3.0            1.4           0.2  Iris-setosa\n",
       "2   3            4.7           3.2            1.3           0.2  Iris-setosa\n",
       "3   4            4.6           3.1            1.5           0.2  Iris-setosa\n",
       "4   5            5.0           3.6            1.4           0.2  Iris-setosa"
      ]
     },
     "execution_count": 4,
     "metadata": {},
     "output_type": "execute_result"
    }
   ],
   "source": [
    "# Mostrar las primeras filas del DataFrame\n",
    "data.head()"
   ]
  },
  {
   "cell_type": "markdown",
   "id": "8a7b10ea",
   "metadata": {},
   "source": [
    "#### Aqui vemos una columna llamada \"Id\" en nusetro conjunto de datos. Esta columna parece ser solo un identificador y no proporciona información relevante para nuestro análisis de machine learning. Hemos considerar eliminarla para que no afecte negativamente nuestros modelos."
   ]
  },
  {
   "cell_type": "code",
   "execution_count": 8,
   "id": "1cc6d55c",
   "metadata": {},
   "outputs": [],
   "source": [
    "data.drop(columns=['Id'], inplace=True)"
   ]
  },
  {
   "cell_type": "code",
   "execution_count": 9,
   "id": "271ee28e",
   "metadata": {},
   "outputs": [
    {
     "name": "stdout",
     "output_type": "stream",
     "text": [
      "<class 'pandas.core.frame.DataFrame'>\n",
      "RangeIndex: 150 entries, 0 to 149\n",
      "Data columns (total 5 columns):\n",
      " #   Column         Non-Null Count  Dtype  \n",
      "---  ------         --------------  -----  \n",
      " 0   SepalLengthCm  150 non-null    float64\n",
      " 1   SepalWidthCm   150 non-null    float64\n",
      " 2   PetalLengthCm  150 non-null    float64\n",
      " 3   PetalWidthCm   150 non-null    float64\n",
      " 4   Species        150 non-null    object \n",
      "dtypes: float64(4), object(1)\n",
      "memory usage: 6.0+ KB\n",
      "None\n"
     ]
    }
   ],
   "source": [
    "# Verificar información general del DataFrame\n",
    "print(data.info())"
   ]
  },
  {
   "cell_type": "markdown",
   "id": "2faf2512",
   "metadata": {},
   "source": [
    "#### Vemos que la columna \"Species\" tiene el tipo \"object\". Dado que esta columna es la variable objetivo en nuestro análisis, es importante asegurarse de que los valores sean categóricos y únicos. Vamos a usar data['Species'].unique() para verificar los valores únicos y confirmar que estén correctamente formateados."
   ]
  },
  {
   "cell_type": "code",
   "execution_count": 13,
   "id": "8016994a",
   "metadata": {},
   "outputs": [
    {
     "name": "stdout",
     "output_type": "stream",
     "text": [
      "['Iris-setosa' 'Iris-versicolor' 'Iris-virginica']\n"
     ]
    }
   ],
   "source": [
    "unique_species = data['Species'].unique()\n",
    "print(unique_species)"
   ]
  },
  {
   "cell_type": "markdown",
   "id": "c9ec4c6f",
   "metadata": {},
   "source": [
    "#### Como planeamos aplicar algoritmos de machine learning, tendremos que convertir la columna \"Species\" en una forma numérica, ya que los algoritmos generalmente trabajan con números. \n",
    "#### Ahora \"data_encoded\" contendrá las columnas binarias correspondientes a las categorías de \"Species\""
   ]
  },
  {
   "cell_type": "code",
   "execution_count": 24,
   "id": "c3b35f87",
   "metadata": {},
   "outputs": [],
   "source": [
    "data_encoded = pd.get_dummies(data, columns=['Species'], prefix=['Species'])"
   ]
  },
  {
   "cell_type": "markdown",
   "id": "20cacdd7",
   "metadata": {},
   "source": [
    "#### Cada valor en la lista corresponde a una especie diferente de la planta Iris. Esto significa que la columna \"Species\" contiene tres clases diferentes: \"Iris-setosa\", \"Iris-versicolor\" y \"Iris-virginica\", y estos serán los valores que usaremos como etiquetas o variables objetivo en nuestro análisis de machine learning"
   ]
  },
  {
   "cell_type": "code",
   "execution_count": 25,
   "id": "ae3feeb8",
   "metadata": {},
   "outputs": [
    {
     "name": "stdout",
     "output_type": "stream",
     "text": [
      "SepalLengthCm    0\n",
      "SepalWidthCm     0\n",
      "PetalLengthCm    0\n",
      "PetalWidthCm     0\n",
      "Species          0\n",
      "dtype: int64\n"
     ]
    }
   ],
   "source": [
    "# Contar valores faltantes por columna\n",
    "print(data.isnull().sum())"
   ]
  },
  {
   "cell_type": "markdown",
   "id": "1b438827",
   "metadata": {},
   "source": [
    "#### Detección de valores nulos: Hemos utilizado el método data.isnull() para verificar la presencia de valores nulos en el DataFrame, . Es importante verificar y manejar los valores nulos, ya que pueden afectar el análisis y los modelos. Si hubieran valores nulos, se podría considerar eliminar filas con valores nulos o reemplazarlos con estrategias como la media de la columna."
   ]
  },
  {
   "cell_type": "code",
   "execution_count": 26,
   "id": "0ca46639",
   "metadata": {},
   "outputs": [
    {
     "name": "stdout",
     "output_type": "stream",
     "text": [
      "       SepalLengthCm  SepalWidthCm  PetalLengthCm  PetalWidthCm\n",
      "count     150.000000    150.000000     150.000000    150.000000\n",
      "mean        5.843333      3.054000       3.758667      1.198667\n",
      "std         0.828066      0.433594       1.764420      0.763161\n",
      "min         4.300000      2.000000       1.000000      0.100000\n",
      "25%         5.100000      2.800000       1.600000      0.300000\n",
      "50%         5.800000      3.000000       4.350000      1.300000\n",
      "75%         6.400000      3.300000       5.100000      1.800000\n",
      "max         7.900000      4.400000       6.900000      2.500000\n"
     ]
    }
   ],
   "source": [
    "# Estadísticas descriptivas\n",
    "print(data.describe())"
   ]
  },
  {
   "cell_type": "markdown",
   "id": "fb1a2cb8",
   "metadata": {},
   "source": [
    "#### La exploración gráfica es una parte fundamental para comprender los datos"
   ]
  },
  {
   "cell_type": "code",
   "execution_count": 27,
   "id": "41e85b34",
   "metadata": {},
   "outputs": [
    {
     "data": {
      "image/png": "[encoded data removed]",
      "text/plain": [
       "<Figure size 576x432 with 1 Axes>"
      ]
     },
     "metadata": {
      "needs_background": "light"
     },
     "output_type": "display_data"
    }
   ],
   "source": [
    "# Histograma de SepalLengthCm para cada especie\n",
    "plt.figure(figsize=(8, 6))\n",
    "for species in unique_species:\n",
    "    plt.hist(data[data['Species'] == species]['SepalLengthCm'], bins=15, alpha=0.5, label=species)\n",
    "plt.xlabel('Sepal Length (cm)')\n",
    "plt.ylabel('Frequency')\n",
    "plt.title('Histogram of Sepal Length for Different Species')\n",
    "plt.legend()\n",
    "plt.show()"
   ]
  },
  {
   "cell_type": "code",
   "execution_count": 28,
   "id": "fb1504ec",
   "metadata": {},
   "outputs": [
    {
     "data": {
      "image/png": "[encoded data removed]",
      "text/plain": [
       "<Figure size 576x432 with 1 Axes>"
      ]
     },
     "metadata": {
      "needs_background": "light"
     },
     "output_type": "display_data"
    }
   ],
   "source": [
    "# Diagrama de dispersión de SepalLengthCm vs SepalWidthCm\n",
    "plt.figure(figsize=(8, 6))\n",
    "for species in unique_species:\n",
    "    plt.scatter(data[data['Species'] == species]['SepalLengthCm'], data[data['Species'] == species]['SepalWidthCm'], label=species)\n",
    "plt.xlabel('Sepal Length (cm)')\n",
    "plt.ylabel('Sepal Width (cm)')\n",
    "plt.title('Sepal Length vs Sepal Width')\n",
    "plt.legend()\n",
    "plt.show()"
   ]
  },
  {
   "cell_type": "code",
   "execution_count": 23,
   "id": "db58eeac",
   "metadata": {},
   "outputs": [],
   "source": []
  }
 ],
 "metadata": {
  "kernelspec": {
   "display_name": "Python 3 (ipykernel)",
   "language": "python",
   "name": "python3"
  },
  "language_info": {
   "codemirror_mode": {
    "name": "ipython",
    "version": 3
   },
   "file_extension": ".py",
   "mimetype": "text/x-python",
   "name": "python",
   "nbconvert_exporter": "python",
   "pygments_lexer": "ipython3",
   "version": "3.9.12"
  }
 },
 "nbformat": 4,
 "nbformat_minor": 5
}
